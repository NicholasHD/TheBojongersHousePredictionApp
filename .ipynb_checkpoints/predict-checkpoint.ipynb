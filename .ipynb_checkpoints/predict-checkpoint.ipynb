{
 "cells": [
  {
   "cell_type": "markdown",
   "id": "d59edaec",
   "metadata": {},
   "source": [
    "## Implementasi Kode Python"
   ]
  },
  {
   "cell_type": "markdown",
   "id": "7e27a178",
   "metadata": {},
   "source": [
    "Libary yang digunakan :"
   ]
  },
  {
   "cell_type": "code",
   "execution_count": 36,
   "id": "87143f4d",
   "metadata": {},
   "outputs": [],
   "source": [
    "from sklearn.preprocessing import PolynomialFeatures, StandardScaler\n",
    "from sklearn.tree import DecisionTreeRegressor\n",
    "from sklearn.ensemble import RandomForestRegressor\n",
    "import matplotlib.pyplot as plt\n",
    "import numpy as np\n",
    "import pandas as pd\n",
    "import seaborn as sns"
   ]
  },
  {
   "cell_type": "markdown",
   "id": "68a4b632",
   "metadata": {},
   "source": [
    "Membaca dataset kc_house_data.csv menggunakan pandas :"
   ]
  },
  {
   "cell_type": "code",
   "execution_count": 56,
   "id": "e348ee78",
   "metadata": {},
   "outputs": [
    {
     "data": {
      "text/html": [
       "<div>\n",
       "<style scoped>\n",
       "    .dataframe tbody tr th:only-of-type {\n",
       "        vertical-align: middle;\n",
       "    }\n",
       "\n",
       "    .dataframe tbody tr th {\n",
       "        vertical-align: top;\n",
       "    }\n",
       "\n",
       "    .dataframe thead th {\n",
       "        text-align: right;\n",
       "    }\n",
       "</style>\n",
       "<table border=\"1\" class=\"dataframe\">\n",
       "  <thead>\n",
       "    <tr style=\"text-align: right;\">\n",
       "      <th></th>\n",
       "      <th>price</th>\n",
       "      <th>bedrooms</th>\n",
       "      <th>bathrooms</th>\n",
       "      <th>sqft_living</th>\n",
       "      <th>sqft_lot</th>\n",
       "      <th>floors</th>\n",
       "      <th>waterfront</th>\n",
       "      <th>view</th>\n",
       "      <th>grade</th>\n",
       "      <th>sqft_above</th>\n",
       "      <th>sqft_basement</th>\n",
       "      <th>lat</th>\n",
       "      <th>long</th>\n",
       "    </tr>\n",
       "  </thead>\n",
       "  <tbody>\n",
       "    <tr>\n",
       "      <th>0</th>\n",
       "      <td>221900.0</td>\n",
       "      <td>3</td>\n",
       "      <td>1.00</td>\n",
       "      <td>1180</td>\n",
       "      <td>5650</td>\n",
       "      <td>1.0</td>\n",
       "      <td>0</td>\n",
       "      <td>0</td>\n",
       "      <td>7</td>\n",
       "      <td>1180</td>\n",
       "      <td>0</td>\n",
       "      <td>47.5112</td>\n",
       "      <td>-122.257</td>\n",
       "    </tr>\n",
       "    <tr>\n",
       "      <th>1</th>\n",
       "      <td>538000.0</td>\n",
       "      <td>3</td>\n",
       "      <td>2.25</td>\n",
       "      <td>2570</td>\n",
       "      <td>7242</td>\n",
       "      <td>2.0</td>\n",
       "      <td>0</td>\n",
       "      <td>0</td>\n",
       "      <td>7</td>\n",
       "      <td>2170</td>\n",
       "      <td>400</td>\n",
       "      <td>47.7210</td>\n",
       "      <td>-122.319</td>\n",
       "    </tr>\n",
       "    <tr>\n",
       "      <th>2</th>\n",
       "      <td>180000.0</td>\n",
       "      <td>2</td>\n",
       "      <td>1.00</td>\n",
       "      <td>770</td>\n",
       "      <td>10000</td>\n",
       "      <td>1.0</td>\n",
       "      <td>0</td>\n",
       "      <td>0</td>\n",
       "      <td>6</td>\n",
       "      <td>770</td>\n",
       "      <td>0</td>\n",
       "      <td>47.7379</td>\n",
       "      <td>-122.233</td>\n",
       "    </tr>\n",
       "    <tr>\n",
       "      <th>3</th>\n",
       "      <td>604000.0</td>\n",
       "      <td>4</td>\n",
       "      <td>3.00</td>\n",
       "      <td>1960</td>\n",
       "      <td>5000</td>\n",
       "      <td>1.0</td>\n",
       "      <td>0</td>\n",
       "      <td>0</td>\n",
       "      <td>7</td>\n",
       "      <td>1050</td>\n",
       "      <td>910</td>\n",
       "      <td>47.5208</td>\n",
       "      <td>-122.393</td>\n",
       "    </tr>\n",
       "    <tr>\n",
       "      <th>4</th>\n",
       "      <td>510000.0</td>\n",
       "      <td>3</td>\n",
       "      <td>2.00</td>\n",
       "      <td>1680</td>\n",
       "      <td>8080</td>\n",
       "      <td>1.0</td>\n",
       "      <td>0</td>\n",
       "      <td>0</td>\n",
       "      <td>8</td>\n",
       "      <td>1680</td>\n",
       "      <td>0</td>\n",
       "      <td>47.6168</td>\n",
       "      <td>-122.045</td>\n",
       "    </tr>\n",
       "    <tr>\n",
       "      <th>...</th>\n",
       "      <td>...</td>\n",
       "      <td>...</td>\n",
       "      <td>...</td>\n",
       "      <td>...</td>\n",
       "      <td>...</td>\n",
       "      <td>...</td>\n",
       "      <td>...</td>\n",
       "      <td>...</td>\n",
       "      <td>...</td>\n",
       "      <td>...</td>\n",
       "      <td>...</td>\n",
       "      <td>...</td>\n",
       "      <td>...</td>\n",
       "    </tr>\n",
       "    <tr>\n",
       "      <th>21608</th>\n",
       "      <td>360000.0</td>\n",
       "      <td>3</td>\n",
       "      <td>2.50</td>\n",
       "      <td>1530</td>\n",
       "      <td>1131</td>\n",
       "      <td>3.0</td>\n",
       "      <td>0</td>\n",
       "      <td>0</td>\n",
       "      <td>8</td>\n",
       "      <td>1530</td>\n",
       "      <td>0</td>\n",
       "      <td>47.6993</td>\n",
       "      <td>-122.346</td>\n",
       "    </tr>\n",
       "    <tr>\n",
       "      <th>21609</th>\n",
       "      <td>400000.0</td>\n",
       "      <td>4</td>\n",
       "      <td>2.50</td>\n",
       "      <td>2310</td>\n",
       "      <td>5813</td>\n",
       "      <td>2.0</td>\n",
       "      <td>0</td>\n",
       "      <td>0</td>\n",
       "      <td>8</td>\n",
       "      <td>2310</td>\n",
       "      <td>0</td>\n",
       "      <td>47.5107</td>\n",
       "      <td>-122.362</td>\n",
       "    </tr>\n",
       "    <tr>\n",
       "      <th>21610</th>\n",
       "      <td>402101.0</td>\n",
       "      <td>2</td>\n",
       "      <td>0.75</td>\n",
       "      <td>1020</td>\n",
       "      <td>1350</td>\n",
       "      <td>2.0</td>\n",
       "      <td>0</td>\n",
       "      <td>0</td>\n",
       "      <td>7</td>\n",
       "      <td>1020</td>\n",
       "      <td>0</td>\n",
       "      <td>47.5944</td>\n",
       "      <td>-122.299</td>\n",
       "    </tr>\n",
       "    <tr>\n",
       "      <th>21611</th>\n",
       "      <td>400000.0</td>\n",
       "      <td>3</td>\n",
       "      <td>2.50</td>\n",
       "      <td>1600</td>\n",
       "      <td>2388</td>\n",
       "      <td>2.0</td>\n",
       "      <td>0</td>\n",
       "      <td>0</td>\n",
       "      <td>8</td>\n",
       "      <td>1600</td>\n",
       "      <td>0</td>\n",
       "      <td>47.5345</td>\n",
       "      <td>-122.069</td>\n",
       "    </tr>\n",
       "    <tr>\n",
       "      <th>21612</th>\n",
       "      <td>325000.0</td>\n",
       "      <td>2</td>\n",
       "      <td>0.75</td>\n",
       "      <td>1020</td>\n",
       "      <td>1076</td>\n",
       "      <td>2.0</td>\n",
       "      <td>0</td>\n",
       "      <td>0</td>\n",
       "      <td>7</td>\n",
       "      <td>1020</td>\n",
       "      <td>0</td>\n",
       "      <td>47.5941</td>\n",
       "      <td>-122.299</td>\n",
       "    </tr>\n",
       "  </tbody>\n",
       "</table>\n",
       "<p>21613 rows × 13 columns</p>\n",
       "</div>"
      ],
      "text/plain": [
       "          price  bedrooms  bathrooms  sqft_living  sqft_lot  floors  \\\n",
       "0      221900.0         3       1.00         1180      5650     1.0   \n",
       "1      538000.0         3       2.25         2570      7242     2.0   \n",
       "2      180000.0         2       1.00          770     10000     1.0   \n",
       "3      604000.0         4       3.00         1960      5000     1.0   \n",
       "4      510000.0         3       2.00         1680      8080     1.0   \n",
       "...         ...       ...        ...          ...       ...     ...   \n",
       "21608  360000.0         3       2.50         1530      1131     3.0   \n",
       "21609  400000.0         4       2.50         2310      5813     2.0   \n",
       "21610  402101.0         2       0.75         1020      1350     2.0   \n",
       "21611  400000.0         3       2.50         1600      2388     2.0   \n",
       "21612  325000.0         2       0.75         1020      1076     2.0   \n",
       "\n",
       "       waterfront  view  grade  sqft_above  sqft_basement      lat     long  \n",
       "0               0     0      7        1180              0  47.5112 -122.257  \n",
       "1               0     0      7        2170            400  47.7210 -122.319  \n",
       "2               0     0      6         770              0  47.7379 -122.233  \n",
       "3               0     0      7        1050            910  47.5208 -122.393  \n",
       "4               0     0      8        1680              0  47.6168 -122.045  \n",
       "...           ...   ...    ...         ...            ...      ...      ...  \n",
       "21608           0     0      8        1530              0  47.6993 -122.346  \n",
       "21609           0     0      8        2310              0  47.5107 -122.362  \n",
       "21610           0     0      7        1020              0  47.5944 -122.299  \n",
       "21611           0     0      8        1600              0  47.5345 -122.069  \n",
       "21612           0     0      7        1020              0  47.5941 -122.299  \n",
       "\n",
       "[21613 rows x 13 columns]"
      ]
     },
     "execution_count": 56,
     "metadata": {},
     "output_type": "execute_result"
    }
   ],
   "source": [
    "df = pd.read_csv('kc_house_data.csv')\n",
    "df.drop(['id','date','condition','yr_built','yr_renovated','zipcode','sqft_lot15','sqft_living15'],\n",
    "        inplace=True,axis=1)\n",
    "df"
   ]
  },
  {
   "cell_type": "markdown",
   "id": "7b93c4da",
   "metadata": {},
   "source": [
    "Penjelasan Collumn pada dataset tersebut :\n",
    "1.\tPrice : Harga rumah\n",
    "2.\tBedrooms : Banyak kamar tidur\n",
    "3.\tBathrooms : Banyak kamar mandi\n",
    "4.\tSqft_living : Luas rumah (ft2)\n",
    "5.\tSqft_lot : Luas tanah (ft2)\n",
    "6.\tFloors : Banyak tingkat lantai rumah\n",
    "7.\tWaterfront : Adanya waterfront di daerah rumah tersebut\n",
    "8.\tView : Nilai pemandangan rumah\n",
    "9.\tGrade : Kelas Rumah (1-13)\n",
    "10.\tSqft_above : Luas bagian atas rumah (ft2)\n",
    "11.\tSqft_Basement : Luas basement rumah (ft2)\n",
    "12.\tLat : Latitude\n",
    "13.\tLong : Longtitude"
   ]
  },
  {
   "cell_type": "code",
   "execution_count": 57,
   "id": "de6d474d",
   "metadata": {},
   "outputs": [
    {
     "name": "stdout",
     "output_type": "stream",
     "text": [
      "<class 'pandas.core.frame.DataFrame'>\n",
      "RangeIndex: 21613 entries, 0 to 21612\n",
      "Data columns (total 13 columns):\n",
      " #   Column         Non-Null Count  Dtype  \n",
      "---  ------         --------------  -----  \n",
      " 0   price          21613 non-null  float64\n",
      " 1   bedrooms       21613 non-null  int64  \n",
      " 2   bathrooms      21613 non-null  float64\n",
      " 3   sqft_living    21613 non-null  int64  \n",
      " 4   sqft_lot       21613 non-null  int64  \n",
      " 5   floors         21613 non-null  float64\n",
      " 6   waterfront     21613 non-null  int64  \n",
      " 7   view           21613 non-null  int64  \n",
      " 8   grade          21613 non-null  int64  \n",
      " 9   sqft_above     21613 non-null  int64  \n",
      " 10  sqft_basement  21613 non-null  int64  \n",
      " 11  lat            21613 non-null  float64\n",
      " 12  long           21613 non-null  float64\n",
      "dtypes: float64(5), int64(8)\n",
      "memory usage: 2.1 MB\n"
     ]
    }
   ],
   "source": [
    "df.info()"
   ]
  },
  {
   "cell_type": "markdown",
   "id": "155b9af4",
   "metadata": {},
   "source": [
    "Visualisasi Data :"
   ]
  },
  {
   "cell_type": "code",
   "execution_count": 58,
   "id": "326f2a83",
   "metadata": {
    "scrolled": false
   },
   "outputs": [
    {
     "data": {
      "image/png": "[encoded data removed]",
      "text/plain": [
       "<Figure size 2160x2160 with 16 Axes>"
      ]
     },
     "metadata": {
      "needs_background": "light"
     },
     "output_type": "display_data"
    }
   ],
   "source": [
    "df.hist(figsize=(30,30))\n",
    "plt.show()"
   ]
  },
  {
   "cell_type": "markdown",
   "id": "db402598",
   "metadata": {},
   "source": [
    "Korelasi Matrix : "
   ]
  },
  {
   "cell_type": "code",
   "execution_count": 59,
   "id": "378e3cca",
   "metadata": {},
   "outputs": [
    {
     "data": {
      "text/html": [
       "<style  type=\"text/css\" >\n",
       "#T_82c3b_row0_col0,#T_82c3b_row1_col1,#T_82c3b_row2_col2,#T_82c3b_row3_col3,#T_82c3b_row4_col4,#T_82c3b_row5_col5,#T_82c3b_row6_col6,#T_82c3b_row7_col7,#T_82c3b_row8_col8,#T_82c3b_row9_col9,#T_82c3b_row10_col10,#T_82c3b_row11_col11,#T_82c3b_row12_col12{\n",
       "            background-color:  #023858;\n",
       "            color:  #f1f1f1;\n",
       "        }#T_82c3b_row0_col1{\n",
       "            background-color:  #bbc7e0;\n",
       "            color:  #000000;\n",
       "        }#T_82c3b_row0_col2,#T_82c3b_row2_col0{\n",
       "            background-color:  #6da6cd;\n",
       "            color:  #000000;\n",
       "        }#T_82c3b_row0_col3{\n",
       "            background-color:  #1e80b8;\n",
       "            color:  #000000;\n",
       "        }#T_82c3b_row0_col4,#T_82c3b_row5_col11{\n",
       "            background-color:  #e4e1ef;\n",
       "            color:  #000000;\n",
       "        }#T_82c3b_row0_col5,#T_82c3b_row10_col3{\n",
       "            background-color:  #9ab8d8;\n",
       "            color:  #000000;\n",
       "        }#T_82c3b_row0_col6,#T_82c3b_row1_col0{\n",
       "            background-color:  #c1cae2;\n",
       "            color:  #000000;\n",
       "        }#T_82c3b_row0_col7,#T_82c3b_row1_col10{\n",
       "            background-color:  #8cb3d5;\n",
       "            color:  #000000;\n",
       "        }#T_82c3b_row0_col8{\n",
       "            background-color:  #308cbe;\n",
       "            color:  #000000;\n",
       "        }#T_82c3b_row0_col9{\n",
       "            background-color:  #358fc0;\n",
       "            color:  #000000;\n",
       "        }#T_82c3b_row0_col10{\n",
       "            background-color:  #84b0d3;\n",
       "            color:  #000000;\n",
       "        }#T_82c3b_row0_col11{\n",
       "            background-color:  #a1bbda;\n",
       "            color:  #000000;\n",
       "        }#T_82c3b_row0_col12,#T_82c3b_row1_col7,#T_82c3b_row7_col4{\n",
       "            background-color:  #e7e3f0;\n",
       "            color:  #000000;\n",
       "        }#T_82c3b_row1_col2,#T_82c3b_row1_col9{\n",
       "            background-color:  #73a9cf;\n",
       "            color:  #000000;\n",
       "        }#T_82c3b_row1_col3{\n",
       "            background-color:  #5a9ec9;\n",
       "            color:  #000000;\n",
       "        }#T_82c3b_row1_col4,#T_82c3b_row6_col11{\n",
       "            background-color:  #efe9f3;\n",
       "            color:  #000000;\n",
       "        }#T_82c3b_row1_col5,#T_82c3b_row3_col7,#T_82c3b_row3_col12{\n",
       "            background-color:  #b3c3de;\n",
       "            color:  #000000;\n",
       "        }#T_82c3b_row1_col6,#T_82c3b_row4_col8,#T_82c3b_row11_col8{\n",
       "            background-color:  #faf3f9;\n",
       "            color:  #000000;\n",
       "        }#T_82c3b_row1_col8,#T_82c3b_row8_col12,#T_82c3b_row12_col5{\n",
       "            background-color:  #c0c9e2;\n",
       "            color:  #000000;\n",
       "        }#T_82c3b_row1_col11,#T_82c3b_row9_col6{\n",
       "            background-color:  #eee9f3;\n",
       "            color:  #000000;\n",
       "        }#T_82c3b_row1_col12,#T_82c3b_row5_col0{\n",
       "            background-color:  #d2d3e7;\n",
       "            color:  #000000;\n",
       "        }#T_82c3b_row2_col1{\n",
       "            background-color:  #69a5cc;\n",
       "            color:  #000000;\n",
       "        }#T_82c3b_row2_col3,#T_82c3b_row3_col8{\n",
       "            background-color:  #0872b1;\n",
       "            color:  #f1f1f1;\n",
       "        }#T_82c3b_row2_col4{\n",
       "            background-color:  #e5e1ef;\n",
       "            color:  #000000;\n",
       "        }#T_82c3b_row2_col5{\n",
       "            background-color:  #4295c3;\n",
       "            color:  #000000;\n",
       "        }#T_82c3b_row2_col6,#T_82c3b_row5_col7,#T_82c3b_row6_col4{\n",
       "            background-color:  #f0eaf4;\n",
       "            color:  #000000;\n",
       "        }#T_82c3b_row2_col7,#T_82c3b_row9_col4{\n",
       "            background-color:  #d1d2e6;\n",
       "            color:  #000000;\n",
       "        }#T_82c3b_row2_col8{\n",
       "            background-color:  #328dbf;\n",
       "            color:  #000000;\n",
       "        }#T_82c3b_row2_col9{\n",
       "            background-color:  #187cb6;\n",
       "            color:  #000000;\n",
       "        }#T_82c3b_row2_col10{\n",
       "            background-color:  #93b5d6;\n",
       "            color:  #000000;\n",
       "        }#T_82c3b_row2_col11,#T_82c3b_row4_col7{\n",
       "            background-color:  #e8e4f0;\n",
       "            color:  #000000;\n",
       "        }#T_82c3b_row2_col12{\n",
       "            background-color:  #b8c6e0;\n",
       "            color:  #000000;\n",
       "        }#T_82c3b_row3_col0{\n",
       "            background-color:  #197db7;\n",
       "            color:  #000000;\n",
       "        }#T_82c3b_row3_col1{\n",
       "            background-color:  #4c99c5;\n",
       "            color:  #000000;\n",
       "        }#T_82c3b_row3_col2,#T_82c3b_row8_col3{\n",
       "            background-color:  #0570b0;\n",
       "            color:  #f1f1f1;\n",
       "        }#T_82c3b_row3_col4,#T_82c3b_row5_col12,#T_82c3b_row11_col5{\n",
       "            background-color:  #d3d4e7;\n",
       "            color:  #000000;\n",
       "        }#T_82c3b_row3_col5,#T_82c3b_row9_col1{\n",
       "            background-color:  #7bacd1;\n",
       "            color:  #000000;\n",
       "        }#T_82c3b_row3_col6,#T_82c3b_row12_col1{\n",
       "            background-color:  #e9e5f1;\n",
       "            color:  #000000;\n",
       "        }#T_82c3b_row3_col9{\n",
       "            background-color:  #04588a;\n",
       "            color:  #f1f1f1;\n",
       "        }#T_82c3b_row3_col10{\n",
       "            background-color:  #5ea0ca;\n",
       "            color:  #000000;\n",
       "        }#T_82c3b_row3_col11,#T_82c3b_row7_col2{\n",
       "            background-color:  #e3e0ee;\n",
       "            color:  #000000;\n",
       "        }#T_82c3b_row4_col0{\n",
       "            background-color:  #f5eef6;\n",
       "            color:  #000000;\n",
       "        }#T_82c3b_row4_col1,#T_82c3b_row6_col2{\n",
       "            background-color:  #f9f2f8;\n",
       "            color:  #000000;\n",
       "        }#T_82c3b_row4_col2,#T_82c3b_row5_col6{\n",
       "            background-color:  #f5eff6;\n",
       "            color:  #000000;\n",
       "        }#T_82c3b_row4_col3,#T_82c3b_row12_col8{\n",
       "            background-color:  #ece7f2;\n",
       "            color:  #000000;\n",
       "        }#T_82c3b_row4_col5{\n",
       "            background-color:  #dddbec;\n",
       "            color:  #000000;\n",
       "        }#T_82c3b_row4_col6{\n",
       "            background-color:  #f6eff7;\n",
       "            color:  #000000;\n",
       "        }#T_82c3b_row4_col9{\n",
       "            background-color:  #d6d6e9;\n",
       "            color:  #000000;\n",
       "        }#T_82c3b_row4_col10,#T_82c3b_row7_col9{\n",
       "            background-color:  #d9d8ea;\n",
       "            color:  #000000;\n",
       "        }#T_82c3b_row4_col11,#T_82c3b_row11_col9{\n",
       "            background-color:  #f8f1f8;\n",
       "            color:  #000000;\n",
       "        }#T_82c3b_row4_col12{\n",
       "            background-color:  #b7c5df;\n",
       "            color:  #000000;\n",
       "        }#T_82c3b_row5_col1,#T_82c3b_row8_col4{\n",
       "            background-color:  #e0dded;\n",
       "            color:  #000000;\n",
       "        }#T_82c3b_row5_col2{\n",
       "            background-color:  #79abd0;\n",
       "            color:  #000000;\n",
       "        }#T_82c3b_row5_col3{\n",
       "            background-color:  #b9c6e0;\n",
       "            color:  #000000;\n",
       "        }#T_82c3b_row5_col4{\n",
       "            background-color:  #f4eef6;\n",
       "            color:  #000000;\n",
       "        }#T_82c3b_row5_col8{\n",
       "            background-color:  #99b8d8;\n",
       "            color:  #000000;\n",
       "        }#T_82c3b_row5_col9{\n",
       "            background-color:  #5c9fc9;\n",
       "            color:  #000000;\n",
       "        }#T_82c3b_row5_col10,#T_82c3b_row6_col1,#T_82c3b_row6_col8,#T_82c3b_row10_col5,#T_82c3b_row10_col9,#T_82c3b_row10_col12,#T_82c3b_row11_col1,#T_82c3b_row11_col2,#T_82c3b_row11_col3,#T_82c3b_row11_col4,#T_82c3b_row12_col0,#T_82c3b_row12_col6,#T_82c3b_row12_col7,#T_82c3b_row12_col11{\n",
       "            background-color:  #fff7fb;\n",
       "            color:  #000000;\n",
       "        }#T_82c3b_row6_col0{\n",
       "            background-color:  #d0d1e6;\n",
       "            color:  #000000;\n",
       "        }#T_82c3b_row6_col3,#T_82c3b_row7_col12{\n",
       "            background-color:  #f7f0f7;\n",
       "            color:  #000000;\n",
       "        }#T_82c3b_row6_col5,#T_82c3b_row10_col11{\n",
       "            background-color:  #d8d7e9;\n",
       "            color:  #000000;\n",
       "        }#T_82c3b_row6_col7{\n",
       "            background-color:  #89b1d4;\n",
       "            color:  #000000;\n",
       "        }#T_82c3b_row6_col9,#T_82c3b_row8_col6,#T_82c3b_row9_col11,#T_82c3b_row10_col6{\n",
       "            background-color:  #ede8f3;\n",
       "            color:  #000000;\n",
       "        }#T_82c3b_row6_col10{\n",
       "            background-color:  #cccfe5;\n",
       "            color:  #000000;\n",
       "        }#T_82c3b_row6_col12,#T_82c3b_row10_col4,#T_82c3b_row10_col8{\n",
       "            background-color:  #f1ebf5;\n",
       "            color:  #000000;\n",
       "        }#T_82c3b_row7_col0{\n",
       "            background-color:  #a2bcda;\n",
       "            color:  #000000;\n",
       "        }#T_82c3b_row7_col1{\n",
       "            background-color:  #f2ecf5;\n",
       "            color:  #000000;\n",
       "        }#T_82c3b_row7_col3{\n",
       "            background-color:  #d2d2e7;\n",
       "            color:  #000000;\n",
       "        }#T_82c3b_row7_col5,#T_82c3b_row8_col11{\n",
       "            background-color:  #d7d6e9;\n",
       "            color:  #000000;\n",
       "        }#T_82c3b_row7_col6,#T_82c3b_row9_col12{\n",
       "            background-color:  #91b5d6;\n",
       "            color:  #000000;\n",
       "        }#T_82c3b_row7_col8{\n",
       "            background-color:  #dfddec;\n",
       "            color:  #000000;\n",
       "        }#T_82c3b_row7_col10{\n",
       "            background-color:  #94b6d7;\n",
       "            color:  #000000;\n",
       "        }#T_82c3b_row7_col11{\n",
       "            background-color:  #ede7f2;\n",
       "            color:  #000000;\n",
       "        }#T_82c3b_row8_col0,#T_82c3b_row8_col2{\n",
       "            background-color:  #2987bc;\n",
       "            color:  #000000;\n",
       "        }#T_82c3b_row8_col1{\n",
       "            background-color:  #abbfdc;\n",
       "            color:  #000000;\n",
       "        }#T_82c3b_row8_col5{\n",
       "            background-color:  #549cc7;\n",
       "            color:  #000000;\n",
       "        }#T_82c3b_row8_col7{\n",
       "            background-color:  #bdc8e1;\n",
       "            color:  #000000;\n",
       "        }#T_82c3b_row8_col9{\n",
       "            background-color:  #056dab;\n",
       "            color:  #f1f1f1;\n",
       "        }#T_82c3b_row8_col10{\n",
       "            background-color:  #b4c4df;\n",
       "            color:  #000000;\n",
       "        }#T_82c3b_row9_col0{\n",
       "            background-color:  #4496c3;\n",
       "            color:  #000000;\n",
       "        }#T_82c3b_row9_col2{\n",
       "            background-color:  #2182b9;\n",
       "            color:  #000000;\n",
       "        }#T_82c3b_row9_col3{\n",
       "            background-color:  #045b8e;\n",
       "            color:  #f1f1f1;\n",
       "        }#T_82c3b_row9_col5{\n",
       "            background-color:  #3991c1;\n",
       "            color:  #000000;\n",
       "        }#T_82c3b_row9_col7{\n",
       "            background-color:  #d5d5e8;\n",
       "            color:  #000000;\n",
       "        }#T_82c3b_row9_col8{\n",
       "            background-color:  #0c74b2;\n",
       "            color:  #f1f1f1;\n",
       "        }#T_82c3b_row9_col10{\n",
       "            background-color:  #e6e2ef;\n",
       "            color:  #000000;\n",
       "        }#T_82c3b_row10_col0,#T_82c3b_row10_col1{\n",
       "            background-color:  #bcc7e1;\n",
       "            color:  #000000;\n",
       "        }#T_82c3b_row10_col2{\n",
       "            background-color:  #cacee5;\n",
       "            color:  #000000;\n",
       "        }#T_82c3b_row10_col7{\n",
       "            background-color:  #b5c4df;\n",
       "            color:  #000000;\n",
       "        }#T_82c3b_row11_col0,#T_82c3b_row12_col4{\n",
       "            background-color:  #c2cbe2;\n",
       "            color:  #000000;\n",
       "        }#T_82c3b_row11_col6{\n",
       "            background-color:  #fbf4f9;\n",
       "            color:  #000000;\n",
       "        }#T_82c3b_row11_col7,#T_82c3b_row12_col10{\n",
       "            background-color:  #f3edf5;\n",
       "            color:  #000000;\n",
       "        }#T_82c3b_row11_col10{\n",
       "            background-color:  #c4cbe3;\n",
       "            color:  #000000;\n",
       "        }#T_82c3b_row11_col12{\n",
       "            background-color:  #fef6fa;\n",
       "            color:  #000000;\n",
       "        }#T_82c3b_row12_col2{\n",
       "            background-color:  #dad9ea;\n",
       "            color:  #000000;\n",
       "        }#T_82c3b_row12_col3{\n",
       "            background-color:  #dcdaeb;\n",
       "            color:  #000000;\n",
       "        }#T_82c3b_row12_col9{\n",
       "            background-color:  #a5bddb;\n",
       "            color:  #000000;\n",
       "        }</style><table id=\"T_82c3b_\" ><thead>    <tr>        <th class=\"blank level0\" ></th>        <th class=\"col_heading level0 col0\" >price</th>        <th class=\"col_heading level0 col1\" >bedrooms</th>        <th class=\"col_heading level0 col2\" >bathrooms</th>        <th class=\"col_heading level0 col3\" >sqft_living</th>        <th class=\"col_heading level0 col4\" >sqft_lot</th>        <th class=\"col_heading level0 col5\" >floors</th>        <th class=\"col_heading level0 col6\" >waterfront</th>        <th class=\"col_heading level0 col7\" >view</th>        <th class=\"col_heading level0 col8\" >grade</th>        <th class=\"col_heading level0 col9\" >sqft_above</th>        <th class=\"col_heading level0 col10\" >sqft_basement</th>        <th class=\"col_heading level0 col11\" >lat</th>        <th class=\"col_heading level0 col12\" >long</th>    </tr></thead><tbody>\n",
       "                <tr>\n",
       "                        <th id=\"T_82c3b_level0_row0\" class=\"row_heading level0 row0\" >price</th>\n",
       "                        <td id=\"T_82c3b_row0_col0\" class=\"data row0 col0\" >1.00</td>\n",
       "                        <td id=\"T_82c3b_row0_col1\" class=\"data row0 col1\" >0.31</td>\n",
       "                        <td id=\"T_82c3b_row0_col2\" class=\"data row0 col2\" >0.53</td>\n",
       "                        <td id=\"T_82c3b_row0_col3\" class=\"data row0 col3\" >0.70</td>\n",
       "                        <td id=\"T_82c3b_row0_col4\" class=\"data row0 col4\" >0.09</td>\n",
       "                        <td id=\"T_82c3b_row0_col5\" class=\"data row0 col5\" >0.26</td>\n",
       "                        <td id=\"T_82c3b_row0_col6\" class=\"data row0 col6\" >0.27</td>\n",
       "                        <td id=\"T_82c3b_row0_col7\" class=\"data row0 col7\" >0.40</td>\n",
       "                        <td id=\"T_82c3b_row0_col8\" class=\"data row0 col8\" >0.67</td>\n",
       "                        <td id=\"T_82c3b_row0_col9\" class=\"data row0 col9\" >0.61</td>\n",
       "                        <td id=\"T_82c3b_row0_col10\" class=\"data row0 col10\" >0.32</td>\n",
       "                        <td id=\"T_82c3b_row0_col11\" class=\"data row0 col11\" >0.31</td>\n",
       "                        <td id=\"T_82c3b_row0_col12\" class=\"data row0 col12\" >0.02</td>\n",
       "            </tr>\n",
       "            <tr>\n",
       "                        <th id=\"T_82c3b_level0_row1\" class=\"row_heading level0 row1\" >bedrooms</th>\n",
       "                        <td id=\"T_82c3b_row1_col0\" class=\"data row1 col0\" >0.31</td>\n",
       "                        <td id=\"T_82c3b_row1_col1\" class=\"data row1 col1\" >1.00</td>\n",
       "                        <td id=\"T_82c3b_row1_col2\" class=\"data row1 col2\" >0.52</td>\n",
       "                        <td id=\"T_82c3b_row1_col3\" class=\"data row1 col3\" >0.58</td>\n",
       "                        <td id=\"T_82c3b_row1_col4\" class=\"data row1 col4\" >0.03</td>\n",
       "                        <td id=\"T_82c3b_row1_col5\" class=\"data row1 col5\" >0.18</td>\n",
       "                        <td id=\"T_82c3b_row1_col6\" class=\"data row1 col6\" >-0.01</td>\n",
       "                        <td id=\"T_82c3b_row1_col7\" class=\"data row1 col7\" >0.08</td>\n",
       "                        <td id=\"T_82c3b_row1_col8\" class=\"data row1 col8\" >0.36</td>\n",
       "                        <td id=\"T_82c3b_row1_col9\" class=\"data row1 col9\" >0.48</td>\n",
       "                        <td id=\"T_82c3b_row1_col10\" class=\"data row1 col10\" >0.30</td>\n",
       "                        <td id=\"T_82c3b_row1_col11\" class=\"data row1 col11\" >-0.01</td>\n",
       "                        <td id=\"T_82c3b_row1_col12\" class=\"data row1 col12\" >0.13</td>\n",
       "            </tr>\n",
       "            <tr>\n",
       "                        <th id=\"T_82c3b_level0_row2\" class=\"row_heading level0 row2\" >bathrooms</th>\n",
       "                        <td id=\"T_82c3b_row2_col0\" class=\"data row2 col0\" >0.53</td>\n",
       "                        <td id=\"T_82c3b_row2_col1\" class=\"data row2 col1\" >0.52</td>\n",
       "                        <td id=\"T_82c3b_row2_col2\" class=\"data row2 col2\" >1.00</td>\n",
       "                        <td id=\"T_82c3b_row2_col3\" class=\"data row2 col3\" >0.75</td>\n",
       "                        <td id=\"T_82c3b_row2_col4\" class=\"data row2 col4\" >0.09</td>\n",
       "                        <td id=\"T_82c3b_row2_col5\" class=\"data row2 col5\" >0.50</td>\n",
       "                        <td id=\"T_82c3b_row2_col6\" class=\"data row2 col6\" >0.06</td>\n",
       "                        <td id=\"T_82c3b_row2_col7\" class=\"data row2 col7\" >0.19</td>\n",
       "                        <td id=\"T_82c3b_row2_col8\" class=\"data row2 col8\" >0.66</td>\n",
       "                        <td id=\"T_82c3b_row2_col9\" class=\"data row2 col9\" >0.69</td>\n",
       "                        <td id=\"T_82c3b_row2_col10\" class=\"data row2 col10\" >0.28</td>\n",
       "                        <td id=\"T_82c3b_row2_col11\" class=\"data row2 col11\" >0.02</td>\n",
       "                        <td id=\"T_82c3b_row2_col12\" class=\"data row2 col12\" >0.22</td>\n",
       "            </tr>\n",
       "            <tr>\n",
       "                        <th id=\"T_82c3b_level0_row3\" class=\"row_heading level0 row3\" >sqft_living</th>\n",
       "                        <td id=\"T_82c3b_row3_col0\" class=\"data row3 col0\" >0.70</td>\n",
       "                        <td id=\"T_82c3b_row3_col1\" class=\"data row3 col1\" >0.58</td>\n",
       "                        <td id=\"T_82c3b_row3_col2\" class=\"data row3 col2\" >0.75</td>\n",
       "                        <td id=\"T_82c3b_row3_col3\" class=\"data row3 col3\" >1.00</td>\n",
       "                        <td id=\"T_82c3b_row3_col4\" class=\"data row3 col4\" >0.17</td>\n",
       "                        <td id=\"T_82c3b_row3_col5\" class=\"data row3 col5\" >0.35</td>\n",
       "                        <td id=\"T_82c3b_row3_col6\" class=\"data row3 col6\" >0.10</td>\n",
       "                        <td id=\"T_82c3b_row3_col7\" class=\"data row3 col7\" >0.28</td>\n",
       "                        <td id=\"T_82c3b_row3_col8\" class=\"data row3 col8\" >0.76</td>\n",
       "                        <td id=\"T_82c3b_row3_col9\" class=\"data row3 col9\" >0.88</td>\n",
       "                        <td id=\"T_82c3b_row3_col10\" class=\"data row3 col10\" >0.44</td>\n",
       "                        <td id=\"T_82c3b_row3_col11\" class=\"data row3 col11\" >0.05</td>\n",
       "                        <td id=\"T_82c3b_row3_col12\" class=\"data row3 col12\" >0.24</td>\n",
       "            </tr>\n",
       "            <tr>\n",
       "                        <th id=\"T_82c3b_level0_row4\" class=\"row_heading level0 row4\" >sqft_lot</th>\n",
       "                        <td id=\"T_82c3b_row4_col0\" class=\"data row4 col0\" >0.09</td>\n",
       "                        <td id=\"T_82c3b_row4_col1\" class=\"data row4 col1\" >0.03</td>\n",
       "                        <td id=\"T_82c3b_row4_col2\" class=\"data row4 col2\" >0.09</td>\n",
       "                        <td id=\"T_82c3b_row4_col3\" class=\"data row4 col3\" >0.17</td>\n",
       "                        <td id=\"T_82c3b_row4_col4\" class=\"data row4 col4\" >1.00</td>\n",
       "                        <td id=\"T_82c3b_row4_col5\" class=\"data row4 col5\" >-0.01</td>\n",
       "                        <td id=\"T_82c3b_row4_col6\" class=\"data row4 col6\" >0.02</td>\n",
       "                        <td id=\"T_82c3b_row4_col7\" class=\"data row4 col7\" >0.07</td>\n",
       "                        <td id=\"T_82c3b_row4_col8\" class=\"data row4 col8\" >0.11</td>\n",
       "                        <td id=\"T_82c3b_row4_col9\" class=\"data row4 col9\" >0.18</td>\n",
       "                        <td id=\"T_82c3b_row4_col10\" class=\"data row4 col10\" >0.02</td>\n",
       "                        <td id=\"T_82c3b_row4_col11\" class=\"data row4 col11\" >-0.09</td>\n",
       "                        <td id=\"T_82c3b_row4_col12\" class=\"data row4 col12\" >0.23</td>\n",
       "            </tr>\n",
       "            <tr>\n",
       "                        <th id=\"T_82c3b_level0_row5\" class=\"row_heading level0 row5\" >floors</th>\n",
       "                        <td id=\"T_82c3b_row5_col0\" class=\"data row5 col0\" >0.26</td>\n",
       "                        <td id=\"T_82c3b_row5_col1\" class=\"data row5 col1\" >0.18</td>\n",
       "                        <td id=\"T_82c3b_row5_col2\" class=\"data row5 col2\" >0.50</td>\n",
       "                        <td id=\"T_82c3b_row5_col3\" class=\"data row5 col3\" >0.35</td>\n",
       "                        <td id=\"T_82c3b_row5_col4\" class=\"data row5 col4\" >-0.01</td>\n",
       "                        <td id=\"T_82c3b_row5_col5\" class=\"data row5 col5\" >1.00</td>\n",
       "                        <td id=\"T_82c3b_row5_col6\" class=\"data row5 col6\" >0.02</td>\n",
       "                        <td id=\"T_82c3b_row5_col7\" class=\"data row5 col7\" >0.03</td>\n",
       "                        <td id=\"T_82c3b_row5_col8\" class=\"data row5 col8\" >0.46</td>\n",
       "                        <td id=\"T_82c3b_row5_col9\" class=\"data row5 col9\" >0.52</td>\n",
       "                        <td id=\"T_82c3b_row5_col10\" class=\"data row5 col10\" >-0.25</td>\n",
       "                        <td id=\"T_82c3b_row5_col11\" class=\"data row5 col11\" >0.05</td>\n",
       "                        <td id=\"T_82c3b_row5_col12\" class=\"data row5 col12\" >0.13</td>\n",
       "            </tr>\n",
       "            <tr>\n",
       "                        <th id=\"T_82c3b_level0_row6\" class=\"row_heading level0 row6\" >waterfront</th>\n",
       "                        <td id=\"T_82c3b_row6_col0\" class=\"data row6 col0\" >0.27</td>\n",
       "                        <td id=\"T_82c3b_row6_col1\" class=\"data row6 col1\" >-0.01</td>\n",
       "                        <td id=\"T_82c3b_row6_col2\" class=\"data row6 col2\" >0.06</td>\n",
       "                        <td id=\"T_82c3b_row6_col3\" class=\"data row6 col3\" >0.10</td>\n",
       "                        <td id=\"T_82c3b_row6_col4\" class=\"data row6 col4\" >0.02</td>\n",
       "                        <td id=\"T_82c3b_row6_col5\" class=\"data row6 col5\" >0.02</td>\n",
       "                        <td id=\"T_82c3b_row6_col6\" class=\"data row6 col6\" >1.00</td>\n",
       "                        <td id=\"T_82c3b_row6_col7\" class=\"data row6 col7\" >0.40</td>\n",
       "                        <td id=\"T_82c3b_row6_col8\" class=\"data row6 col8\" >0.08</td>\n",
       "                        <td id=\"T_82c3b_row6_col9\" class=\"data row6 col9\" >0.07</td>\n",
       "                        <td id=\"T_82c3b_row6_col10\" class=\"data row6 col10\" >0.08</td>\n",
       "                        <td id=\"T_82c3b_row6_col11\" class=\"data row6 col11\" >-0.01</td>\n",
       "                        <td id=\"T_82c3b_row6_col12\" class=\"data row6 col12\" >-0.04</td>\n",
       "            </tr>\n",
       "            <tr>\n",
       "                        <th id=\"T_82c3b_level0_row7\" class=\"row_heading level0 row7\" >view</th>\n",
       "                        <td id=\"T_82c3b_row7_col0\" class=\"data row7 col0\" >0.40</td>\n",
       "                        <td id=\"T_82c3b_row7_col1\" class=\"data row7 col1\" >0.08</td>\n",
       "                        <td id=\"T_82c3b_row7_col2\" class=\"data row7 col2\" >0.19</td>\n",
       "                        <td id=\"T_82c3b_row7_col3\" class=\"data row7 col3\" >0.28</td>\n",
       "                        <td id=\"T_82c3b_row7_col4\" class=\"data row7 col4\" >0.07</td>\n",
       "                        <td id=\"T_82c3b_row7_col5\" class=\"data row7 col5\" >0.03</td>\n",
       "                        <td id=\"T_82c3b_row7_col6\" class=\"data row7 col6\" >0.40</td>\n",
       "                        <td id=\"T_82c3b_row7_col7\" class=\"data row7 col7\" >1.00</td>\n",
       "                        <td id=\"T_82c3b_row7_col8\" class=\"data row7 col8\" >0.25</td>\n",
       "                        <td id=\"T_82c3b_row7_col9\" class=\"data row7 col9\" >0.17</td>\n",
       "                        <td id=\"T_82c3b_row7_col10\" class=\"data row7 col10\" >0.28</td>\n",
       "                        <td id=\"T_82c3b_row7_col11\" class=\"data row7 col11\" >0.01</td>\n",
       "                        <td id=\"T_82c3b_row7_col12\" class=\"data row7 col12\" >-0.08</td>\n",
       "            </tr>\n",
       "            <tr>\n",
       "                        <th id=\"T_82c3b_level0_row8\" class=\"row_heading level0 row8\" >grade</th>\n",
       "                        <td id=\"T_82c3b_row8_col0\" class=\"data row8 col0\" >0.67</td>\n",
       "                        <td id=\"T_82c3b_row8_col1\" class=\"data row8 col1\" >0.36</td>\n",
       "                        <td id=\"T_82c3b_row8_col2\" class=\"data row8 col2\" >0.66</td>\n",
       "                        <td id=\"T_82c3b_row8_col3\" class=\"data row8 col3\" >0.76</td>\n",
       "                        <td id=\"T_82c3b_row8_col4\" class=\"data row8 col4\" >0.11</td>\n",
       "                        <td id=\"T_82c3b_row8_col5\" class=\"data row8 col5\" >0.46</td>\n",
       "                        <td id=\"T_82c3b_row8_col6\" class=\"data row8 col6\" >0.08</td>\n",
       "                        <td id=\"T_82c3b_row8_col7\" class=\"data row8 col7\" >0.25</td>\n",
       "                        <td id=\"T_82c3b_row8_col8\" class=\"data row8 col8\" >1.00</td>\n",
       "                        <td id=\"T_82c3b_row8_col9\" class=\"data row8 col9\" >0.76</td>\n",
       "                        <td id=\"T_82c3b_row8_col10\" class=\"data row8 col10\" >0.17</td>\n",
       "                        <td id=\"T_82c3b_row8_col11\" class=\"data row8 col11\" >0.11</td>\n",
       "                        <td id=\"T_82c3b_row8_col12\" class=\"data row8 col12\" >0.20</td>\n",
       "            </tr>\n",
       "            <tr>\n",
       "                        <th id=\"T_82c3b_level0_row9\" class=\"row_heading level0 row9\" >sqft_above</th>\n",
       "                        <td id=\"T_82c3b_row9_col0\" class=\"data row9 col0\" >0.61</td>\n",
       "                        <td id=\"T_82c3b_row9_col1\" class=\"data row9 col1\" >0.48</td>\n",
       "                        <td id=\"T_82c3b_row9_col2\" class=\"data row9 col2\" >0.69</td>\n",
       "                        <td id=\"T_82c3b_row9_col3\" class=\"data row9 col3\" >0.88</td>\n",
       "                        <td id=\"T_82c3b_row9_col4\" class=\"data row9 col4\" >0.18</td>\n",
       "                        <td id=\"T_82c3b_row9_col5\" class=\"data row9 col5\" >0.52</td>\n",
       "                        <td id=\"T_82c3b_row9_col6\" class=\"data row9 col6\" >0.07</td>\n",
       "                        <td id=\"T_82c3b_row9_col7\" class=\"data row9 col7\" >0.17</td>\n",
       "                        <td id=\"T_82c3b_row9_col8\" class=\"data row9 col8\" >0.76</td>\n",
       "                        <td id=\"T_82c3b_row9_col9\" class=\"data row9 col9\" >1.00</td>\n",
       "                        <td id=\"T_82c3b_row9_col10\" class=\"data row9 col10\" >-0.05</td>\n",
       "                        <td id=\"T_82c3b_row9_col11\" class=\"data row9 col11\" >-0.00</td>\n",
       "                        <td id=\"T_82c3b_row9_col12\" class=\"data row9 col12\" >0.34</td>\n",
       "            </tr>\n",
       "            <tr>\n",
       "                        <th id=\"T_82c3b_level0_row10\" class=\"row_heading level0 row10\" >sqft_basement</th>\n",
       "                        <td id=\"T_82c3b_row10_col0\" class=\"data row10 col0\" >0.32</td>\n",
       "                        <td id=\"T_82c3b_row10_col1\" class=\"data row10 col1\" >0.30</td>\n",
       "                        <td id=\"T_82c3b_row10_col2\" class=\"data row10 col2\" >0.28</td>\n",
       "                        <td id=\"T_82c3b_row10_col3\" class=\"data row10 col3\" >0.44</td>\n",
       "                        <td id=\"T_82c3b_row10_col4\" class=\"data row10 col4\" >0.02</td>\n",
       "                        <td id=\"T_82c3b_row10_col5\" class=\"data row10 col5\" >-0.25</td>\n",
       "                        <td id=\"T_82c3b_row10_col6\" class=\"data row10 col6\" >0.08</td>\n",
       "                        <td id=\"T_82c3b_row10_col7\" class=\"data row10 col7\" >0.28</td>\n",
       "                        <td id=\"T_82c3b_row10_col8\" class=\"data row10 col8\" >0.17</td>\n",
       "                        <td id=\"T_82c3b_row10_col9\" class=\"data row10 col9\" >-0.05</td>\n",
       "                        <td id=\"T_82c3b_row10_col10\" class=\"data row10 col10\" >1.00</td>\n",
       "                        <td id=\"T_82c3b_row10_col11\" class=\"data row10 col11\" >0.11</td>\n",
       "                        <td id=\"T_82c3b_row10_col12\" class=\"data row10 col12\" >-0.14</td>\n",
       "            </tr>\n",
       "            <tr>\n",
       "                        <th id=\"T_82c3b_level0_row11\" class=\"row_heading level0 row11\" >lat</th>\n",
       "                        <td id=\"T_82c3b_row11_col0\" class=\"data row11 col0\" >0.31</td>\n",
       "                        <td id=\"T_82c3b_row11_col1\" class=\"data row11 col1\" >-0.01</td>\n",
       "                        <td id=\"T_82c3b_row11_col2\" class=\"data row11 col2\" >0.02</td>\n",
       "                        <td id=\"T_82c3b_row11_col3\" class=\"data row11 col3\" >0.05</td>\n",
       "                        <td id=\"T_82c3b_row11_col4\" class=\"data row11 col4\" >-0.09</td>\n",
       "                        <td id=\"T_82c3b_row11_col5\" class=\"data row11 col5\" >0.05</td>\n",
       "                        <td id=\"T_82c3b_row11_col6\" class=\"data row11 col6\" >-0.01</td>\n",
       "                        <td id=\"T_82c3b_row11_col7\" class=\"data row11 col7\" >0.01</td>\n",
       "                        <td id=\"T_82c3b_row11_col8\" class=\"data row11 col8\" >0.11</td>\n",
       "                        <td id=\"T_82c3b_row11_col9\" class=\"data row11 col9\" >-0.00</td>\n",
       "                        <td id=\"T_82c3b_row11_col10\" class=\"data row11 col10\" >0.11</td>\n",
       "                        <td id=\"T_82c3b_row11_col11\" class=\"data row11 col11\" >1.00</td>\n",
       "                        <td id=\"T_82c3b_row11_col12\" class=\"data row11 col12\" >-0.14</td>\n",
       "            </tr>\n",
       "            <tr>\n",
       "                        <th id=\"T_82c3b_level0_row12\" class=\"row_heading level0 row12\" >long</th>\n",
       "                        <td id=\"T_82c3b_row12_col0\" class=\"data row12 col0\" >0.02</td>\n",
       "                        <td id=\"T_82c3b_row12_col1\" class=\"data row12 col1\" >0.13</td>\n",
       "                        <td id=\"T_82c3b_row12_col2\" class=\"data row12 col2\" >0.22</td>\n",
       "                        <td id=\"T_82c3b_row12_col3\" class=\"data row12 col3\" >0.24</td>\n",
       "                        <td id=\"T_82c3b_row12_col4\" class=\"data row12 col4\" >0.23</td>\n",
       "                        <td id=\"T_82c3b_row12_col5\" class=\"data row12 col5\" >0.13</td>\n",
       "                        <td id=\"T_82c3b_row12_col6\" class=\"data row12 col6\" >-0.04</td>\n",
       "                        <td id=\"T_82c3b_row12_col7\" class=\"data row12 col7\" >-0.08</td>\n",
       "                        <td id=\"T_82c3b_row12_col8\" class=\"data row12 col8\" >0.20</td>\n",
       "                        <td id=\"T_82c3b_row12_col9\" class=\"data row12 col9\" >0.34</td>\n",
       "                        <td id=\"T_82c3b_row12_col10\" class=\"data row12 col10\" >-0.14</td>\n",
       "                        <td id=\"T_82c3b_row12_col11\" class=\"data row12 col11\" >-0.14</td>\n",
       "                        <td id=\"T_82c3b_row12_col12\" class=\"data row12 col12\" >1.00</td>\n",
       "            </tr>\n",
       "    </tbody></table>"
      ],
      "text/plain": [
       "<pandas.io.formats.style.Styler at 0x2268fbd7b50>"
      ]
     },
     "execution_count": 59,
     "metadata": {},
     "output_type": "execute_result"
    }
   ],
   "source": [
    "df.corr().style.background_gradient().set_precision(2)"
   ]
  },
  {
   "cell_type": "markdown",
   "id": "6bfbd474",
   "metadata": {},
   "source": [
    "Memeriksa missing value dalam dataset"
   ]
  },
  {
   "cell_type": "code",
   "execution_count": 60,
   "id": "0f156aca",
   "metadata": {},
   "outputs": [
    {
     "data": {
      "text/plain": [
       "price            0\n",
       "bedrooms         0\n",
       "bathrooms        0\n",
       "sqft_living      0\n",
       "sqft_lot         0\n",
       "floors           0\n",
       "waterfront       0\n",
       "view             0\n",
       "grade            0\n",
       "sqft_above       0\n",
       "sqft_basement    0\n",
       "lat              0\n",
       "long             0\n",
       "dtype: int64"
      ]
     },
     "execution_count": 60,
     "metadata": {},
     "output_type": "execute_result"
    }
   ],
   "source": [
    "df.isnull().sum()"
   ]
  },
  {
   "cell_type": "markdown",
   "id": "46141099",
   "metadata": {},
   "source": [
    "Memeriksa detail isi data dalam dataset tersebut"
   ]
  },
  {
   "cell_type": "code",
   "execution_count": 61,
   "id": "004f1f12",
   "metadata": {
    "scrolled": false
   },
   "outputs": [
    {
     "data": {
      "text/html": [
       "<div>\n",
       "<style scoped>\n",
       "    .dataframe tbody tr th:only-of-type {\n",
       "        vertical-align: middle;\n",
       "    }\n",
       "\n",
       "    .dataframe tbody tr th {\n",
       "        vertical-align: top;\n",
       "    }\n",
       "\n",
       "    .dataframe thead th {\n",
       "        text-align: right;\n",
       "    }\n",
       "</style>\n",
       "<table border=\"1\" class=\"dataframe\">\n",
       "  <thead>\n",
       "    <tr style=\"text-align: right;\">\n",
       "      <th></th>\n",
       "      <th>price</th>\n",
       "      <th>bedrooms</th>\n",
       "      <th>bathrooms</th>\n",
       "      <th>sqft_living</th>\n",
       "      <th>sqft_lot</th>\n",
       "      <th>floors</th>\n",
       "      <th>waterfront</th>\n",
       "      <th>view</th>\n",
       "      <th>grade</th>\n",
       "      <th>sqft_above</th>\n",
       "      <th>sqft_basement</th>\n",
       "      <th>lat</th>\n",
       "      <th>long</th>\n",
       "    </tr>\n",
       "  </thead>\n",
       "  <tbody>\n",
       "    <tr>\n",
       "      <th>count</th>\n",
       "      <td>2.161300e+04</td>\n",
       "      <td>21613.000000</td>\n",
       "      <td>21613.000000</td>\n",
       "      <td>21613.000000</td>\n",
       "      <td>2.161300e+04</td>\n",
       "      <td>21613.000000</td>\n",
       "      <td>21613.000000</td>\n",
       "      <td>21613.000000</td>\n",
       "      <td>21613.000000</td>\n",
       "      <td>21613.000000</td>\n",
       "      <td>21613.000000</td>\n",
       "      <td>21613.000000</td>\n",
       "      <td>21613.000000</td>\n",
       "    </tr>\n",
       "    <tr>\n",
       "      <th>mean</th>\n",
       "      <td>5.400881e+05</td>\n",
       "      <td>3.370842</td>\n",
       "      <td>2.114757</td>\n",
       "      <td>2079.899736</td>\n",
       "      <td>1.510697e+04</td>\n",
       "      <td>1.494309</td>\n",
       "      <td>0.007542</td>\n",
       "      <td>0.234303</td>\n",
       "      <td>7.656873</td>\n",
       "      <td>1788.390691</td>\n",
       "      <td>291.509045</td>\n",
       "      <td>47.560053</td>\n",
       "      <td>-122.213896</td>\n",
       "    </tr>\n",
       "    <tr>\n",
       "      <th>std</th>\n",
       "      <td>3.671272e+05</td>\n",
       "      <td>0.930062</td>\n",
       "      <td>0.770163</td>\n",
       "      <td>918.440897</td>\n",
       "      <td>4.142051e+04</td>\n",
       "      <td>0.539989</td>\n",
       "      <td>0.086517</td>\n",
       "      <td>0.766318</td>\n",
       "      <td>1.175459</td>\n",
       "      <td>828.090978</td>\n",
       "      <td>442.575043</td>\n",
       "      <td>0.138564</td>\n",
       "      <td>0.140828</td>\n",
       "    </tr>\n",
       "    <tr>\n",
       "      <th>min</th>\n",
       "      <td>7.500000e+04</td>\n",
       "      <td>0.000000</td>\n",
       "      <td>0.000000</td>\n",
       "      <td>290.000000</td>\n",
       "      <td>5.200000e+02</td>\n",
       "      <td>1.000000</td>\n",
       "      <td>0.000000</td>\n",
       "      <td>0.000000</td>\n",
       "      <td>1.000000</td>\n",
       "      <td>290.000000</td>\n",
       "      <td>0.000000</td>\n",
       "      <td>47.155900</td>\n",
       "      <td>-122.519000</td>\n",
       "    </tr>\n",
       "    <tr>\n",
       "      <th>25%</th>\n",
       "      <td>3.219500e+05</td>\n",
       "      <td>3.000000</td>\n",
       "      <td>1.750000</td>\n",
       "      <td>1427.000000</td>\n",
       "      <td>5.040000e+03</td>\n",
       "      <td>1.000000</td>\n",
       "      <td>0.000000</td>\n",
       "      <td>0.000000</td>\n",
       "      <td>7.000000</td>\n",
       "      <td>1190.000000</td>\n",
       "      <td>0.000000</td>\n",
       "      <td>47.471000</td>\n",
       "      <td>-122.328000</td>\n",
       "    </tr>\n",
       "    <tr>\n",
       "      <th>50%</th>\n",
       "      <td>4.500000e+05</td>\n",
       "      <td>3.000000</td>\n",
       "      <td>2.250000</td>\n",
       "      <td>1910.000000</td>\n",
       "      <td>7.618000e+03</td>\n",
       "      <td>1.500000</td>\n",
       "      <td>0.000000</td>\n",
       "      <td>0.000000</td>\n",
       "      <td>7.000000</td>\n",
       "      <td>1560.000000</td>\n",
       "      <td>0.000000</td>\n",
       "      <td>47.571800</td>\n",
       "      <td>-122.230000</td>\n",
       "    </tr>\n",
       "    <tr>\n",
       "      <th>75%</th>\n",
       "      <td>6.450000e+05</td>\n",
       "      <td>4.000000</td>\n",
       "      <td>2.500000</td>\n",
       "      <td>2550.000000</td>\n",
       "      <td>1.068800e+04</td>\n",
       "      <td>2.000000</td>\n",
       "      <td>0.000000</td>\n",
       "      <td>0.000000</td>\n",
       "      <td>8.000000</td>\n",
       "      <td>2210.000000</td>\n",
       "      <td>560.000000</td>\n",
       "      <td>47.678000</td>\n",
       "      <td>-122.125000</td>\n",
       "    </tr>\n",
       "    <tr>\n",
       "      <th>max</th>\n",
       "      <td>7.700000e+06</td>\n",
       "      <td>33.000000</td>\n",
       "      <td>8.000000</td>\n",
       "      <td>13540.000000</td>\n",
       "      <td>1.651359e+06</td>\n",
       "      <td>3.500000</td>\n",
       "      <td>1.000000</td>\n",
       "      <td>4.000000</td>\n",
       "      <td>13.000000</td>\n",
       "      <td>9410.000000</td>\n",
       "      <td>4820.000000</td>\n",
       "      <td>47.777600</td>\n",
       "      <td>-121.315000</td>\n",
       "    </tr>\n",
       "  </tbody>\n",
       "</table>\n",
       "</div>"
      ],
      "text/plain": [
       "              price      bedrooms     bathrooms   sqft_living      sqft_lot  \\\n",
       "count  2.161300e+04  21613.000000  21613.000000  21613.000000  2.161300e+04   \n",
       "mean   5.400881e+05      3.370842      2.114757   2079.899736  1.510697e+04   \n",
       "std    3.671272e+05      0.930062      0.770163    918.440897  4.142051e+04   \n",
       "min    7.500000e+04      0.000000      0.000000    290.000000  5.200000e+02   \n",
       "25%    3.219500e+05      3.000000      1.750000   1427.000000  5.040000e+03   \n",
       "50%    4.500000e+05      3.000000      2.250000   1910.000000  7.618000e+03   \n",
       "75%    6.450000e+05      4.000000      2.500000   2550.000000  1.068800e+04   \n",
       "max    7.700000e+06     33.000000      8.000000  13540.000000  1.651359e+06   \n",
       "\n",
       "             floors    waterfront          view         grade    sqft_above  \\\n",
       "count  21613.000000  21613.000000  21613.000000  21613.000000  21613.000000   \n",
       "mean       1.494309      0.007542      0.234303      7.656873   1788.390691   \n",
       "std        0.539989      0.086517      0.766318      1.175459    828.090978   \n",
       "min        1.000000      0.000000      0.000000      1.000000    290.000000   \n",
       "25%        1.000000      0.000000      0.000000      7.000000   1190.000000   \n",
       "50%        1.500000      0.000000      0.000000      7.000000   1560.000000   \n",
       "75%        2.000000      0.000000      0.000000      8.000000   2210.000000   \n",
       "max        3.500000      1.000000      4.000000     13.000000   9410.000000   \n",
       "\n",
       "       sqft_basement           lat          long  \n",
       "count   21613.000000  21613.000000  21613.000000  \n",
       "mean      291.509045     47.560053   -122.213896  \n",
       "std       442.575043      0.138564      0.140828  \n",
       "min         0.000000     47.155900   -122.519000  \n",
       "25%         0.000000     47.471000   -122.328000  \n",
       "50%         0.000000     47.571800   -122.230000  \n",
       "75%       560.000000     47.678000   -122.125000  \n",
       "max      4820.000000     47.777600   -121.315000  "
      ]
     },
     "execution_count": 61,
     "metadata": {},
     "output_type": "execute_result"
    }
   ],
   "source": [
    "df.describe()"
   ]
  },
  {
   "cell_type": "markdown",
   "id": "ef0f0822",
   "metadata": {},
   "source": [
    "Mengubah data type bathroom dan floors untuk menjadi interger supaya tidak ada isi data dalam kolom tersebut yang decimal"
   ]
  },
  {
   "cell_type": "code",
   "execution_count": 62,
   "id": "aa2919aa",
   "metadata": {},
   "outputs": [],
   "source": [
    "df['bathrooms'] = df['bathrooms'].astype('int')\n",
    "df['floors'] = df['floors'].astype('int')\n",
    "df['bedrooms'] = df['bedrooms'].replace(33,3)"
   ]
  },
  {
   "cell_type": "markdown",
   "id": "0febedd3",
   "metadata": {},
   "source": [
    "Mendeklarasikan variabel fitur(X) dan variabel target(Y)"
   ]
  },
  {
   "cell_type": "code",
   "execution_count": 63,
   "id": "bdb992da",
   "metadata": {},
   "outputs": [],
   "source": [
    "X = df.drop(['price'], axis=1)\n",
    "Y = df['price']"
   ]
  },
  {
   "cell_type": "markdown",
   "id": "98e04401",
   "metadata": {},
   "source": [
    "Membagi dataset menjadi train data dan test data dengan rasio 7:3"
   ]
  },
  {
   "cell_type": "code",
   "execution_count": 64,
   "id": "522aaf15",
   "metadata": {},
   "outputs": [],
   "source": [
    "from sklearn.model_selection import train_test_split\n",
    "X_train, X_test, Y_train, Y_test = train_test_split(X, Y, test_size = 0.3, random_state = 1)"
   ]
  },
  {
   "cell_type": "markdown",
   "id": "1afdb84b",
   "metadata": {},
   "source": [
    "### Model Random Forest Regression"
   ]
  },
  {
   "cell_type": "code",
   "execution_count": 65,
   "id": "549ec898",
   "metadata": {},
   "outputs": [
    {
     "data": {
      "text/plain": [
       "RandomForestRegressor(n_estimators=200)"
      ]
     },
     "execution_count": 65,
     "metadata": {},
     "output_type": "execute_result"
    }
   ],
   "source": [
    "#RFR\n",
    "reg_RF = RandomForestRegressor(n_estimators = 200)\n",
    "reg_RF.fit(X_train,Y_train)"
   ]
  },
  {
   "cell_type": "code",
   "execution_count": 66,
   "id": "2762736b",
   "metadata": {},
   "outputs": [
    {
     "data": {
      "text/plain": [
       "array([260789.54])"
      ]
     },
     "execution_count": 66,
     "metadata": {},
     "output_type": "execute_result"
    }
   ],
   "source": [
    "D = np.array([[3,2,1600,2000,1,0,0,7,1500,150,47,-122]])\n",
    "pred = reg_RF.predict(D)\n",
    "pred"
   ]
  },
  {
   "cell_type": "code",
   "execution_count": 67,
   "id": "47b8361c",
   "metadata": {},
   "outputs": [
    {
     "name": "stdout",
     "output_type": "stream",
     "text": [
      "R2 (Random Forest Regression): 0.867992912196732\n"
     ]
    }
   ],
   "source": [
    "from sklearn.metrics import r2_score\n",
    "Y_pred_RF = reg_RF.predict(X_test)\n",
    "r2_RF = r2_score(Y_test, Y_pred_RF)\n",
    "print('R2 (Random Forest Regression):', r2_RF)"
   ]
  },
  {
   "cell_type": "code",
   "execution_count": 68,
   "id": "ee61a032",
   "metadata": {},
   "outputs": [
    {
     "data": {
      "text/plain": [
       "[<matplotlib.lines.Line2D at 0x22693a17310>]"
      ]
     },
     "execution_count": 68,
     "metadata": {},
     "output_type": "execute_result"
    },
    {
     "data": {
      "image/png": "[encoded data removed]",
      "text/plain": [
       "<Figure size 720x576 with 1 Axes>"
      ]
     },
     "metadata": {
      "needs_background": "light"
     },
     "output_type": "display_data"
    }
   ],
   "source": [
    "plt.figure(figsize=(10,8))\n",
    "plt.scatter(Y_test,Y_pred_RF)\n",
    "plt.plot(Y_test,Y_test,color='red')"
   ]
  },
  {
   "cell_type": "markdown",
   "id": "26bd0c2f",
   "metadata": {},
   "source": [
    "### Model Decision Tree Regression"
   ]
  },
  {
   "cell_type": "code",
   "execution_count": 69,
   "id": "fd967ee0",
   "metadata": {},
   "outputs": [
    {
     "data": {
      "text/plain": [
       "DecisionTreeRegressor()"
      ]
     },
     "execution_count": 69,
     "metadata": {},
     "output_type": "execute_result"
    }
   ],
   "source": [
    "reg_DTR = DecisionTreeRegressor()\n",
    "reg_DTR.fit(X_train,Y_train)"
   ]
  },
  {
   "cell_type": "code",
   "execution_count": 70,
   "id": "71249a60",
   "metadata": {},
   "outputs": [
    {
     "data": {
      "text/plain": [
       "array([380000.])"
      ]
     },
     "execution_count": 70,
     "metadata": {},
     "output_type": "execute_result"
    }
   ],
   "source": [
    "D = np.array([[3,2,1600,2000,1,0,0,7,1500,150,47,-122]])\n",
    "pred = reg_DTR.predict(D)\n",
    "pred"
   ]
  },
  {
   "cell_type": "code",
   "execution_count": 71,
   "id": "aff71509",
   "metadata": {},
   "outputs": [
    {
     "name": "stdout",
     "output_type": "stream",
     "text": [
      "R2 (Decision Tree Regression): 0.7506269883045157\n"
     ]
    }
   ],
   "source": [
    "Y_pred_DTR = reg_DTR.predict(X_test)\n",
    "r2_DTR = r2_score(Y_test, Y_pred_DTR)\n",
    "print('R2 (Decision Tree Regression):', r2_DTR)"
   ]
  },
  {
   "cell_type": "code",
   "execution_count": 72,
   "id": "8954168e",
   "metadata": {},
   "outputs": [
    {
     "data": {
      "text/plain": [
       "[<matplotlib.lines.Line2D at 0x22694b5f8e0>]"
      ]
     },
     "execution_count": 72,
     "metadata": {},
     "output_type": "execute_result"
    },
    {
     "data": {
      "image/png": "[encoded data removed]",
      "text/plain": [
       "<Figure size 720x576 with 1 Axes>"
      ]
     },
     "metadata": {
      "needs_background": "light"
     },
     "output_type": "display_data"
    }
   ],
   "source": [
    "plt.figure(figsize=(10,8))\n",
    "plt.scatter(Y_test,Y_pred_DTR)\n",
    "plt.plot(Y_test,Y_test,color='red')"
   ]
  },
  {
   "cell_type": "markdown",
   "id": "23da274c",
   "metadata": {},
   "source": [
    "### Model Polynomial Regression"
   ]
  },
  {
   "cell_type": "code",
   "execution_count": 73,
   "id": "efea9444",
   "metadata": {},
   "outputs": [],
   "source": [
    "PR =  PolynomialFeatures(degree = 2)"
   ]
  },
  {
   "cell_type": "code",
   "execution_count": 74,
   "id": "3d478a63",
   "metadata": {},
   "outputs": [
    {
     "data": {
      "text/plain": [
       "LinearRegression()"
      ]
     },
     "execution_count": 74,
     "metadata": {},
     "output_type": "execute_result"
    }
   ],
   "source": [
    "X_train_PR = PR.fit_transform(X_train)\n",
    "X_test_PR = PR.transform(X_test)\n",
    "reg_LR.fit(X_train_PR,Y_train)"
   ]
  },
  {
   "cell_type": "code",
   "execution_count": 75,
   "id": "2396d834",
   "metadata": {},
   "outputs": [
    {
     "name": "stdout",
     "output_type": "stream",
     "text": [
      "R2 (Polynomial Regression): 0.7813976915920656\n"
     ]
    }
   ],
   "source": [
    "Y_pred_PR = reg_LR.predict(X_test_PR)\n",
    "r2_PR = r2_score(Y_test, Y_pred_PR)\n",
    "print('R2 (Polynomial Regression):', r2_PR)"
   ]
  },
  {
   "cell_type": "code",
   "execution_count": 76,
   "id": "44fbb1fc",
   "metadata": {
    "scrolled": false
   },
   "outputs": [
    {
     "data": {
      "text/plain": [
       "[<matplotlib.lines.Line2D at 0x2268dc0b190>]"
      ]
     },
     "execution_count": 76,
     "metadata": {},
     "output_type": "execute_result"
    },
    {
     "data": {
      "image/png": "[encoded data removed]",
      "text/plain": [
       "<Figure size 720x576 with 1 Axes>"
      ]
     },
     "metadata": {
      "needs_background": "light"
     },
     "output_type": "display_data"
    }
   ],
   "source": [
    "plt.figure(figsize=(10,8))\n",
    "plt.scatter(Y_test,Y_pred_PR)\n",
    "plt.plot(Y_test,Y_test,color='red')"
   ]
  },
  {
   "cell_type": "markdown",
   "id": "c876ad7b",
   "metadata": {},
   "source": [
    "### Perbandingan R2 :"
   ]
  },
  {
   "cell_type": "code",
   "execution_count": 77,
   "id": "2ed9b9c4",
   "metadata": {
    "scrolled": true
   },
   "outputs": [
    {
     "name": "stdout",
     "output_type": "stream",
     "text": [
      "Perbandingan R2 Score : \n",
      "\n",
      "R2 (Random Forest Regression): 0.867992912196732\n",
      "R2 (Decision Tree Regression): 0.7506269883045157\n",
      "R2 (Polynomial Regression): 0.7813976915920656\n"
     ]
    }
   ],
   "source": [
    "print('Perbandingan R2 Score : \\n')\n",
    "print('R2 (Random Forest Regression):', r2_RF)\n",
    "print('R2 (Decision Tree Regression):', r2_DTR)\n",
    "print('R2 (Polynomial Regression):', r2_PR)"
   ]
  },
  {
   "cell_type": "markdown",
   "id": "09a43b51",
   "metadata": {},
   "source": [
    "Menyimpan model regresi yang mempunyai akurasi r2 score terbesar untuk digunakan web app nanti"
   ]
  },
  {
   "cell_type": "code",
   "execution_count": 78,
   "id": "5dfbb43b",
   "metadata": {},
   "outputs": [],
   "source": [
    "import pickle"
   ]
  },
  {
   "cell_type": "code",
   "execution_count": 79,
   "id": "af0e86d9",
   "metadata": {},
   "outputs": [],
   "source": [
    "data = {\"model\": reg_RF}\n",
    "with open('save_step.pkl','wb') as file:\n",
    "    pickle.dump(data,file)"
   ]
  },
  {
   "cell_type": "code",
   "execution_count": 80,
   "id": "d9270146",
   "metadata": {},
   "outputs": [],
   "source": [
    "with open('save_step.pkl', 'rb') as file:\n",
    "    data = pickle.load(file)\n",
    "    \n",
    "reg_load = data[\"model\"]"
   ]
  },
  {
   "cell_type": "code",
   "execution_count": 81,
   "id": "a8fbe12e",
   "metadata": {},
   "outputs": [
    {
     "data": {
      "text/plain": [
       "array([260789.54])"
      ]
     },
     "execution_count": 81,
     "metadata": {},
     "output_type": "execute_result"
    }
   ],
   "source": [
    "pred = reg_load.predict(D)\n",
    "pred"
   ]
  },
  {
   "cell_type": "code",
   "execution_count": null,
   "id": "59e7c218",
   "metadata": {},
   "outputs": [],
   "source": []
  }
 ],
 "metadata": {
  "kernelspec": {
   "display_name": "Python 3",
   "language": "python",
   "name": "python3"
  },
  "language_info": {
   "codemirror_mode": {
    "name": "ipython",
    "version": 3
   },
   "file_extension": ".py",
   "mimetype": "text/x-python",
   "name": "python",
   "nbconvert_exporter": "python",
   "pygments_lexer": "ipython3",
   "version": "3.8.8"
  }
 },
 "nbformat": 4,
 "nbformat_minor": 5
}
